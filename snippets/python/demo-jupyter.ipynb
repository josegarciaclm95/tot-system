{
 "nbformat": 4,
 "nbformat_minor": 2,
 "metadata": {
  "language_info": {
   "name": "python",
   "codemirror_mode": {
    "name": "ipython",
    "version": 3
   },
   "version": "3.7.1"
  },
  "orig_nbformat": 2,
  "file_extension": ".py",
  "mimetype": "text/x-python",
  "name": "python",
  "npconvert_exporter": "python",
  "pygments_lexer": "ipython3",
  "version": 3
 },
 "cells": [
  {
   "cell_type": "code",
   "execution_count": 96,
   "metadata": {},
   "outputs": [],
   "source": [
    "from IPython.core.display import display, HTML\n",
    "import requests as request\n",
    "from time import sleep\n",
    "import json"
   ]
  },
  {
   "cell_type": "code",
   "execution_count": 97,
   "metadata": {},
   "outputs": [],
   "source": [
    "r = request.get('http://localhost:3000/api/v1/')\n",
    "cookies = r.cookies"
   ]
  },
  {
   "cell_type": "code",
   "execution_count": 98,
   "metadata": {},
   "outputs": [],
   "source": [
    "init_data = {\n",
    "    'settings': {\n",
    "\t    'mockup': {\n",
    "\t\t    'category': 'face',\n",
    "\t\t\t'media': [ 'image' ],\n",
    "\t\t\t'realTime': 'false',\n",
    "\t\t\t'url': 'whatever',\n",
    "\t\t\t'otherOptions': {\n",
    "\t\t\t\t'api_key': 'whatever'\n",
    "\t\t\t},\n",
    "\t\t\t'callbacks': './src/detectors/other/mockup.js'\n",
    "\t\t},\n",
    "        'facepp': {\n",
    "            'category': 'face',\n",
    "            'media': [ 'image' ],\n",
    "            'realTime': 'false',\n",
    "            'url': 'https://api-us.faceplusplus.com/facepp/v3/detect',\n",
    "            'otherOptions': {\n",
    "                'api_key': 'lWMTqYOBCFvPIqRrcBpdBX6FTyMNdi7Y',\n",
    "                'api_secret': 'fE6OCbIshDawTnXZZzm78_eWfAdG9jQz'\n",
    "            },\n",
    "            'callbacks': './src/detectors/face/facepp.js'\n",
    "        }\n",
    "\t}\n",
    "}"
   ]
  },
  {
   "cell_type": "code",
   "execution_count": 99,
   "metadata": {},
   "outputs": [],
   "source": [
    " r = request.post('http://localhost:3000/api/v1/init', json=init_data, cookies=cookies)"
   ]
  },
  {
   "cell_type": "code",
   "execution_count": 100,
   "metadata": {},
   "outputs": [
    {
     "data": {
      "text/html": "{\"status\":\"Detectors initialized\",\"detectorNumber\":2}",
      "text/plain": "<IPython.core.display.HTML object>"
     },
     "metadata": {},
     "output_type": "display_data"
    }
   ],
   "source": [
    "display(HTML(r.text))"
   ]
  },
  {
   "cell_type": "code",
   "execution_count": 101,
   "metadata": {},
   "outputs": [],
   "source": [
    "setup_data =  {\n",
    "    'type': [ 'face' ],\n",
    "    'delay': '30000'\n",
    "}"
   ]
  },
  {
   "cell_type": "code",
   "execution_count": 102,
   "metadata": {},
   "outputs": [],
   "source": [
    " r = request.post('http://localhost:3000/api/v1/setup', json=setup_data, cookies=cookies)"
   ]
  },
  {
   "cell_type": "code",
   "execution_count": 88,
   "metadata": {},
   "outputs": [
    {
     "data": {
      "text/html": "{\"status\":\"OK\",\"detectorsAffected\":0,\"detectorsUsed\":2}",
      "text/plain": "<IPython.core.display.HTML object>"
     },
     "metadata": {},
     "output_type": "display_data"
    }
   ],
   "source": [
    "display(HTML(r.text))"
   ]
  },
  {
   "cell_type": "code",
   "execution_count": 103,
   "metadata": {},
   "outputs": [],
   "source": [
    "analyse_data = {\n",
    "    'mediaType': 'image',\n",
    "\t'lookingFor': 'face',\n",
    "\t'mediaPath': 'http://josemariagarcia.es/img/perfil.jpg'\n",
    "}"
   ]
  },
  {
   "cell_type": "code",
   "execution_count": 104,
   "metadata": {},
   "outputs": [],
   "source": [
    " r = request.post('http://localhost:3000/api/v1/analyse', json=analyse_data, cookies=cookies)"
   ]
  },
  {
   "cell_type": "code",
   "execution_count": 91,
   "metadata": {},
   "outputs": [
    {
     "data": {
      "text/html": "Analyse started.",
      "text/plain": "<IPython.core.display.HTML object>"
     },
     "metadata": {},
     "output_type": "display_data"
    }
   ],
   "source": [
    "display(HTML(r.text))"
   ]
  },
  {
   "cell_type": "code",
   "execution_count": 92,
   "metadata": {},
   "outputs": [],
   "source": [
    "sleep(4)"
   ]
  },
  {
   "cell_type": "code",
   "execution_count": 105,
   "metadata": {},
   "outputs": [],
   "source": [
    "results_data = {\n",
    "    'channelsToMerge': [ 'face' ],\n",
    "    'localStrategy': 'default',\n",
    "    'globalStrategy': 'default'\n",
    "}"
   ]
  },
  {
   "cell_type": "code",
   "execution_count": 106,
   "metadata": {},
   "outputs": [],
   "source": [
    " r = request.post('http://localhost:3000/api/v1/results', json=results_data, cookies=cookies)"
   ]
  },
  {
   "cell_type": "code",
   "execution_count": 107,
   "metadata": {},
   "outputs": [
    {
     "data": {
      "text/html": "[0.999634,0.34994000000000003,0.149889]",
      "text/plain": "<IPython.core.display.HTML object>"
     },
     "metadata": {},
     "output_type": "display_data"
    }
   ],
   "source": [
    "display(HTML(r.text))"
   ]
  }
 ]
}