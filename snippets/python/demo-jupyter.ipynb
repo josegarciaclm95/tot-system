{
 "nbformat": 4,
 "nbformat_minor": 2,
 "metadata": {
  "language_info": {
   "name": "python",
   "codemirror_mode": {
    "name": "ipython",
    "version": 3
   },
   "version": "3.7.1"
  },
  "orig_nbformat": 2,
  "file_extension": ".py",
  "mimetype": "text/x-python",
  "name": "python",
  "npconvert_exporter": "python",
  "pygments_lexer": "ipython3",
  "version": 3
 },
 "cells": [
  {
   "cell_type": "code",
   "execution_count": 46,
   "metadata": {},
   "outputs": [],
   "source": [
    "from IPython.core.display import display, HTML\n",
    "import requests as request\n",
    "import json"
   ]
  },
  {
   "cell_type": "code",
   "execution_count": 62,
   "metadata": {},
   "outputs": [],
   "source": [
    "r = request.get('http://localhost:3000/api/v1/')"
   ]
  },
  {
   "cell_type": "code",
   "execution_count": 30,
   "metadata": {},
   "outputs": [],
   "source": [
    "init_data = {\n",
    "    'settings': {\n",
    "\t    'mockup': {\n",
    "\t\t    'category': 'face',\n",
    "\t\t\t'media': [ 'image' ],\n",
    "\t\t\t'realTime': 'false',\n",
    "\t\t\t'url': 'whatever',\n",
    "\t\t\t'otherOptions': {\n",
    "\t\t\t\t'api_key': 'whatever'\n",
    "\t\t\t},\n",
    "\t\t\t'callbacks': './src/detectors/other/mockup.js'\n",
    "\t\t},\n",
    "        'facepp': {\n",
    "            'category': 'face',\n",
    "            'media': [ 'image' ],\n",
    "            'realTime': 'false',\n",
    "            'url': 'https://api-us.faceplusplus.com/facepp/v3/detect',\n",
    "            'otherOptions': {\n",
    "                'api_key': 'lWMTqYOBCFvPIqRrcBpdBX6FTyMNdi7Y',\n",
    "                'api_secret': 'fE6OCbIshDawTnXZZzm78_eWfAdG9jQz'\n",
    "            },\n",
    "            'callbacks': './src/detectors/face/facepp.js'\n",
    "        }\n",
    "\t}\n",
    "}"
   ]
  },
  {
   "cell_type": "code",
   "execution_count": 63,
   "metadata": {},
   "outputs": [],
   "source": [
    " r = request.post('http://localhost:3000/api/v1/init', json=init_data, cookies=r.cookies)"
   ]
  },
  {
   "cell_type": "code",
   "execution_count": null,
   "metadata": {},
   "outputs": [],
   "source": [
    "setup_data =  {\n",
    "    'type': [ 'face' ],\n",
    "    'delay': '3000'\n",
    "}"
   ]
  },
  {
   "cell_type": "code",
   "execution_count": null,
   "metadata": {},
   "outputs": [],
   "source": [
    " r = request.post('http://localhost:3000/api/v1/setup', json=setup_data, cookies=r.cookies)"
   ]
  },
  {
   "cell_type": "code",
   "execution_count": 64,
   "metadata": {},
   "outputs": [
    {
     "data": {
      "text/html": "{\"status\":\"Detectors initialized\",\"detectorNumber\":2}",
      "text/plain": "<IPython.core.display.HTML object>"
     },
     "metadata": {},
     "output_type": "display_data"
    }
   ],
   "source": [
    "display(HTML(r.text))"
   ]
  }
 ]
}